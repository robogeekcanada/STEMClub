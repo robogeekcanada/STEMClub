{
  "nbformat": 4,
  "nbformat_minor": 0,
  "metadata": {
    "colab": {
      "name": "RG-680 Chapter 1.ipynb",
      "provenance": [],
      "collapsed_sections": [],
      "toc_visible": true
    },
    "kernelspec": {
      "name": "python3",
      "display_name": "Python 3"
    }
  },
  "cells": [
    {
      "cell_type": "markdown",
      "metadata": {
        "id": "4T6VMdWLYdEN",
        "colab_type": "text"
      },
      "source": [
        "**RG-680**: Introduction to Machine Learning\n",
        "\n",
        "![](https://drive.google.com/uc?export=view&id=1x9fi6W2TYrqPCaOzT-jeJG-rjxr8X_5b)\n",
        "\n",
        "\n",
        "<font color='black'>Robo-Geek Inc</font> <font color='red'>Copyright 2020</font>\n",
        "\n"
      ]
    },
    {
      "cell_type": "markdown",
      "metadata": {
        "id": "nV-YUgXZ0rC7",
        "colab_type": "text"
      },
      "source": [
        "# What is Machine Learning"
      ]
    },
    {
      "cell_type": "markdown",
      "metadata": {
        "id": "O_2ID2i20wia",
        "colab_type": "text"
      },
      "source": [
        "Machine learning (ML) is the study of computer algorithms that improve automatically through experience.[1][2] It is seen as a **subset of artificial intelligence**. Machine learning algorithms build a mathematical model based on sample data, known as \"training data\", in order to make **predictions or decisions** without being explicitly programmed to do so.[3] Machine learning algorithms are used in a wide variety of applications, such as email filtering and computer vision, where it is difficult or infeasible to develop conventional algorithms to perform the needed tasks. Source: https://en.wikipedia.org/wiki/Machine_learning#cite_note-1  \n",
        "\n",
        "![](https://drive.google.com/uc?export=view&id=1ZkVPqBPj0GG3ahmzM5x7y3RU62m62osJ)"
      ]
    },
    {
      "cell_type": "markdown",
      "metadata": {
        "id": "mQDw8q3s1bI_",
        "colab_type": "text"
      },
      "source": [
        "# What is Supervised Learning?"
      ]
    },
    {
      "cell_type": "markdown",
      "metadata": {
        "id": "w5ofW0WxrX1i",
        "colab_type": "text"
      },
      "source": [
        "Supervised learning is the process of teaching a model by feeding it input data as well as correct output data. This input/output pair is usually referred to as \"labeled data.\" Think of a teacher who, knowing the correct answer, will either reward marks to or take marks from a student based on the correctness of her response to a question. Supervised learning is often used to create machine learning models for two types of problems.\n",
        "\n",
        "**Regression** - The model finds outputs that are real variables (number which can have decimals.) \n",
        "\n",
        "**Classification** - The model finds classes in which to place its inputs.\n",
        "\n",
        "Source: https://deepai.org/machine-learning-glossary-and-terms/supervised-learning\n",
        "\n",
        "![](https://drive.google.com/uc?export=view&id=1UjNH3qckEH2I-goeS9pSPYlKvxWlJdzI)\n",
        "\n",
        "Picture Source: https://towardsdatascience.com/supervised-vs-unsupervised-learning-14f68e32ea8d"
      ]
    },
    {
      "cell_type": "markdown",
      "metadata": {
        "id": "GqBsQNOz1kuW",
        "colab_type": "text"
      },
      "source": [
        "# What is Unsupervised Learning?"
      ]
    },
    {
      "cell_type": "markdown",
      "metadata": {
        "id": "SOBY8XNcs9rT",
        "colab_type": "text"
      },
      "source": [
        "Unsupervised learning is a machine learning technique that finds and analyzes hidden patterns in “raw” or unlabeled data. By ignoring labels altogether, a model using** unsupervised learning can infer subtle, complex relationships between unsorted data that semi-supervised learning** (where some data is labeled as a reference) would miss. And do so without the **time and costs needed for supervised learning** (where all data is labeled).\n",
        "\n",
        "\n",
        "Unsupervised learning represents a subset of machine learning tasks that are based around using unlabeled training data, which is data that does not have any kind of label designating its classification (like a picture of a dog being labeled as “dog”). Compared to supervised learning where training data is labeled with the appropriate classifications, methods using unsupervised learning must learn relationships between elements in a dataset without labeling the data as any particular classification. Because of this,  **unsupervised learning serves as a great way to uncover hidden structures within data that may not be evident otherwise**. \n",
        "\n",
        "Source: https://deepai.org/machine-learning-glossary-and-terms/unsupervised-learning\n",
        "\n",
        "![](https://drive.google.com/uc?export=view&id=12dyHU44oZ4itDeJrCnhosCVCoVbErbYz)\n",
        "\n",
        "Picture Source: https://towardsdatascience.com/supervised-vs-unsupervised-learning-14f68e32ea8d\n"
      ]
    },
    {
      "cell_type": "markdown",
      "metadata": {
        "id": "mCdm4gXs1vfW",
        "colab_type": "text"
      },
      "source": [
        "# What is Reinforcement Learning?"
      ]
    },
    {
      "cell_type": "markdown",
      "metadata": {
        "id": "7Onb2yKFwInm",
        "colab_type": "text"
      },
      "source": [
        "Reinforcement Learning sources:\n",
        "\n",
        "*Students to complete: name sources and learn how to add pictures*\n",
        "\n",
        "https://en.wikipedia.org/wiki/Reinforcement_learning\n",
        "\n",
        "https://drive.google.com/file/d/15z__z5JxnUr_OtugK4mzSWQXnkjXQf4e/view?usp=sharing"
      ]
    },
    {
      "cell_type": "markdown",
      "metadata": {
        "id": "5lGXGPP813s_",
        "colab_type": "text"
      },
      "source": [
        "# What is Deep Learning?"
      ]
    },
    {
      "cell_type": "markdown",
      "metadata": {
        "id": "RaorNFGaxFGn",
        "colab_type": "text"
      },
      "source": [
        "Research goes here:\n",
        "\n",
        "https://leonardoaraujosantos.gitbook.io/artificial-inteligence/machine_learning/deep_learning\n",
        "\n",
        "https://www.microsoft.com/en-us/research/wp-content/uploads/2016/02/DeepLearning-NowPublishing-Vol7-SIG-039.pdf\n",
        "\n"
      ]
    },
    {
      "cell_type": "markdown",
      "metadata": {
        "id": "nnQhpFLj1_Y2",
        "colab_type": "text"
      },
      "source": [
        "## What is a Neural Network?"
      ]
    },
    {
      "cell_type": "markdown",
      "metadata": {
        "id": "E1sPHUeP2JAq",
        "colab_type": "text"
      },
      "source": [
        ""
      ]
    },
    {
      "cell_type": "markdown",
      "metadata": {
        "id": "ecXcvAjP2Cu1",
        "colab_type": "text"
      },
      "source": [
        "## Types of Neural Networks"
      ]
    },
    {
      "cell_type": "markdown",
      "metadata": {
        "id": "rx3VoWrw2LTf",
        "colab_type": "text"
      },
      "source": [
        ""
      ]
    },
    {
      "cell_type": "markdown",
      "metadata": {
        "id": "XvfddSR-t7oQ",
        "colab_type": "text"
      },
      "source": [
        "# What is Google Colab?\n",
        "\n",
        "https://towardsdatascience.com/intro-to-google-colab-for-data-analytics-da5e3a37af8a"
      ]
    }
  ]
}